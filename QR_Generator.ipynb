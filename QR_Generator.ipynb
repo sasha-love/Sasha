{
  "nbformat": 4,
  "nbformat_minor": 0,
  "metadata": {
    "colab": {
      "provenance": []
    },
    "kernelspec": {
      "name": "python3",
      "display_name": "Python 3"
    },
    "language_info": {
      "name": "python"
    }
  },
  "cells": [
    {
      "cell_type": "markdown",
      "source": [
        "<img src=\"https://github.com/PKhosravi-CityTech/LightCnnRad/raw/main/Images/BioMindLogo.png\" alt=\"BioMind AI Lab Logo\" width=\"150\" height=\"150\" align=\"left\" style=\"margin-bottom: 40px;\"> **Repository Developed by Pegah Khosravi, Principal Investigator of the BioMind AI Lab**\n",
        "\n",
        "Welcome to this repository! This repository is a result of collaborative efforts from our dedicated team at the lab. We are committed to advancing the field of biomedical AI and pushing the boundaries of medical data analysis. Your interest and contributions to our work are greatly appreciated. For more information about our lab and ongoing projects, please visit the [BioMind AI Lab website](https://sites.google.com/view/biomind-ai-lab). Thank you for your interest and support!\n"
      ],
      "metadata": {
        "id": "K5eM7vmA_QnX"
      }
    },
    {
      "cell_type": "code",
      "source": [
        "# Install the qrcode library with Pillow for image processing\n",
        "\n",
        "!pip3 install qrcode[pil]"
      ],
      "metadata": {
        "colab": {
          "base_uri": "https://localhost:8080/"
        },
        "id": "Fayr9yNXBOQh",
        "outputId": "6bac0319-5591-48c8-e3a6-3027d7af0a62"
      },
      "execution_count": 1,
      "outputs": [
        {
          "output_type": "stream",
          "name": "stdout",
          "text": [
            "Collecting qrcode[pil]\n",
            "  Downloading qrcode-7.4.2-py3-none-any.whl (46 kB)\n",
            "\u001b[2K     \u001b[90m━━━━━━━━━━━━━━━━━━━━━━━━━━━━━━━━━━━━━━━━\u001b[0m \u001b[32m46.2/46.2 kB\u001b[0m \u001b[31m469.1 kB/s\u001b[0m eta \u001b[36m0:00:00\u001b[0m\n",
            "\u001b[?25hRequirement already satisfied: typing-extensions in /usr/local/lib/python3.10/dist-packages (from qrcode[pil]) (4.11.0)\n",
            "Collecting pypng (from qrcode[pil])\n",
            "  Downloading pypng-0.20220715.0-py3-none-any.whl (58 kB)\n",
            "\u001b[2K     \u001b[90m━━━━━━━━━━━━━━━━━━━━━━━━━━━━━━━━━━━━━━━━\u001b[0m \u001b[32m58.1/58.1 kB\u001b[0m \u001b[31m2.5 MB/s\u001b[0m eta \u001b[36m0:00:00\u001b[0m\n",
            "\u001b[?25hRequirement already satisfied: pillow>=9.1.0 in /usr/local/lib/python3.10/dist-packages (from qrcode[pil]) (9.4.0)\n",
            "Installing collected packages: pypng, qrcode\n",
            "Successfully installed pypng-0.20220715.0 qrcode-7.4.2\n"
          ]
        }
      ]
    },
    {
      "cell_type": "markdown",
      "source": [
        "<div style=\"color: navy; font-family: Arial;\">\n",
        "    <h3>QR Code Generator Script Overview</h3>\n",
        "    <p>This Python script utilizes the <strong style=\"color: darkgreen;\">qrcode</strong> library to effortlessly generate a QR code for a specified URL, which in this case points to a GitHub profile. Designed with functionality in mind, the script configures a QR code instance with custom settings like <strong style=\"color: darkred;\">version</strong>, <strong style=\"color: darkred;\">error correction level</strong>, <strong style=\"color: darkred;\">box size</strong>, and <strong style=\"color: darkred;\">border</strong>.</p>\n",
        "    <p>Upon adding the URL, the script processes the data to construct the QR code, transforms it into an image, and saves this image as <strong style=\"color: blue;\">'github_qr.png'</strong>. For those using environments such as Jupyter notebooks, the script also includes an optional line to display the image directly within the notebook, enhancing the usability and interactivity of your code demonstration.</p>\n",
        "</div>"
      ],
      "metadata": {
        "id": "NKykr4UE_6J0"
      }
    },
    {
      "cell_type": "markdown",
      "source": [
        "This Python script leverages the qrcode library to create a QR code for a specified URL, in this case, a GitHub profile. The script initializes a QR code object with predefined settings such as version, error correction level, box size, and border size. It then adds the URL to the QR code, generates an image from the QR code, and saves this image as a PNG file. Additionally, the script includes an optional line to display the image in environments like Jupyter notebooks. This script is ideal for quickly sharing URLs through scannable QR codes, enhancing accessibility and connectivity."
      ],
      "metadata": {
        "id": "Q6qiGW-C_qEf"
      }
    },
    {
      "cell_type": "code",
      "execution_count": 3,
      "metadata": {
        "id": "VjjAuo5QBCY6",
        "colab": {
          "base_uri": "https://localhost:8080/",
          "height": 387
        },
        "outputId": "8bc26158-0bd3-4ee2-ae5f-d5bec7282ef1"
      },
      "outputs": [
        {
          "output_type": "display_data",
          "data": {
            "text/plain": [
              "<qrcode.image.pil.PilImage at 0x7b387c395900>"
            ],
            "image/png": "[encoded data removed]"
          },
          "metadata": {}
        }
      ],
      "source": [
        "import qrcode\n",
        "from IPython.display import display\n",
        "\n",
        "# URL for which to generate the QR code\n",
        "url = 'https://github.com/PKhosravi-CityTech'\n",
        "\n",
        "# Create QR code instance\n",
        "qr = qrcode.QRCode(\n",
        "    version=1,\n",
        "    error_correction=qrcode.constants.ERROR_CORRECT_L,\n",
        "    box_size=10,\n",
        "    border=4,\n",
        ")\n",
        "\n",
        "# Add URL to the QR code\n",
        "qr.add_data(url)\n",
        "qr.make(fit=True)\n",
        "\n",
        "# Create an image from the QR code instance\n",
        "img = qr.make_image(fill='black', back_color='white')\n",
        "\n",
        "# Save the image\n",
        "img.save('github_qr.png')\n",
        "\n",
        "# Display the image in a Jupyter notebook or similar environment\n",
        "display(img)"
      ]
    }
  ]
}